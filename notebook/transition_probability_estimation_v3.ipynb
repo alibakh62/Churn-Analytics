{
 "cells": [
  {
   "cell_type": "markdown",
   "metadata": {},
   "source": [
    "# Introdution\n",
    "\n",
    "We're building a model to estimate transition probailities between segments.\n",
    "\n",
    "# Data \n",
    "\n",
    "Data source is the loyalty data. Specifically, we're using the transaction data as the core basis of the final training data.\n",
    "\n",
    "## Training data schema\n",
    "\n",
    "Since we are to estimate transition probabilities of customers across different segments throughout time intervals, the training data would be like below:\n",
    "\n",
    "|   customer_id    |   datetime  |  segment(t)|  segment(t-1)| dynamic features| fixed features |\n",
    "|:-----------------|:------------|:-----------|:-------------|:----------------|:---------------|\n",
    "|     12345        | 2021-01-01  |  segment1  |    segment1  |  feature value  |  feature value |\n",
    "|     12345        | 2021-02-01  |  segment1  |    segment1  |  feature value  |  feature value |\n",
    "|     12345        | 2021-03-01  |  segment1  |    segment1  |  feature value  |  feature value |\n",
    "|     56789        | 2021-01-01  |  segment2  |    segment1  |  feature value  |  feature value |\n",
    "|     56789        | 2021-02-01  |  segment5  |    segment2  |  feature value  |  feature value |\n",
    "|     56789        | 2021-03-01  |  segment1  |    segment5  |  feature value  |  feature value |\n",
    "\n",
    "Considering the size of the data, ideally all the data generating process should happen in spark or Hive.\n",
    "\n",
    "## Features\n",
    "\n",
    "- RFM-based features\n",
    "- customer-vec\n",
    "- metrics based on amount/number of transaction\n",
    "- specific product purchases\n",
    "\n",
    "## Model\n",
    "\n",
    "we can directly estimate transition probability as a function of some time-dependent/independent covariates. It can be modeled as log odds of transitioning from one segment to another, given the current segment:\n",
    "\n",
    "$$\\pi_{ss^\\prime} = \\log\\frac{p(s_t = s | s_{t-1} = s^\\prime)}{p(s_t = s^\\prime | s_{t-1} = s^\\prime)} = \\alpha_i + f(\\mathbf{X}_t) + g(\\mathbf{Z}) + \\varepsilon$$\n",
    "\n",
    "Considering how we create our training data, this is simply a softmax function.\n"
   ]
  },
  {
   "cell_type": "code",
   "execution_count": 2,
   "metadata": {},
   "outputs": [],
   "source": [
    "%load_ext autoreload\n",
    "%autoreload 2\n",
    "%matplotlib inline"
   ]
  },
  {
   "cell_type": "code",
   "execution_count": 5,
   "metadata": {},
   "outputs": [],
   "source": [
    "import sys\n",
    "\n",
    "sys.path.insert(0, '.')\n",
    "sys.path.insert(0, '..')"
   ]
  },
  {
   "cell_type": "code",
   "execution_count": 8,
   "metadata": {
    "ExecuteTime": {
     "end_time": "2019-03-05T21:31:48.445566Z",
     "start_time": "2019-03-05T21:31:48.403228Z"
    }
   },
   "outputs": [],
   "source": [
    "import setenv\n",
    "setenv.set_env()"
   ]
  },
  {
   "cell_type": "code",
   "execution_count": 50,
   "metadata": {
    "ExecuteTime": {
     "end_time": "2019-03-05T21:31:04.685980Z",
     "start_time": "2019-03-05T21:31:04.645626Z"
    }
   },
   "outputs": [],
   "source": [
    "import matplotlib.pyplot as plt\n",
    "import glob\n",
    "import itertools\n",
    "import numpy as np\n",
    "import pandas as pd\n",
    "from sklearn.model_selection import train_test_split\n",
    "from sklearn.linear_model import LogisticRegression\n",
    "from sklearn.utils.validation import column_or_1d\n",
    "# from catboost import CatBoostClassifier, Pool\n",
    "from sklearn.svm import SVC\n",
    "from sklearn.metrics import roc_auc_score\n",
    "from sklearn.ensemble import GradientBoostingClassifier, RandomForestClassifier\n",
    "from sklearn.metrics import confusion_matrix\n",
    "# from aiutils.utils import Utils\n",
    "import setenv"
   ]
  },
  {
   "cell_type": "markdown",
   "metadata": {},
   "source": [
    "## Reading raw data"
   ]
  },
  {
   "cell_type": "code",
   "execution_count": 51,
   "metadata": {},
   "outputs": [],
   "source": [
    "file_extension = '.csv'\n",
    "all_filenames = [i for i in glob.glob(f\"finalDF_train/*{file_extension}\")]"
   ]
  },
  {
   "cell_type": "code",
   "execution_count": null,
   "metadata": {
    "tags": []
   },
   "outputs": [],
   "source": [
    "colnames = []  # List of column names\n",
    "df = pd.concat([pd.read_csv(f, names=colnames, header=None) for f in all_filenames])\n",
    "df.head()"
   ]
  },
  {
   "cell_type": "code",
   "execution_count": 62,
   "metadata": {},
   "outputs": [],
   "source": [
    "dummy_cols = [\"state_mostCommon\", \"psaname_mostCommon\", \"RFMScore\", \"customer_segment\"]\n",
    "df_ = pd.get_dummies(df, columns=dummy_cols, drop_first=True)"
   ]
  },
  {
   "cell_type": "code",
   "execution_count": 63,
   "metadata": {},
   "outputs": [],
   "source": [
    "df_ = df_.fillna(0)"
   ]
  },
  {
   "cell_type": "code",
   "execution_count": 67,
   "metadata": {},
   "outputs": [],
   "source": [
    "drop_cols = [\"memberid\", \"chunkid\", \"segment_prev\", \"city_mostCommon\", \"categoryname_mostCommon\"]\n",
    "dftmp = df_.drop(drop_cols, axis=1, errors='ignore').copy()\n",
    "dftmp.to_csv(\"train_df.csv\", index=False)"
   ]
  },
  {
   "cell_type": "code",
   "execution_count": 69,
   "metadata": {
    "ExecuteTime": {
     "end_time": "2019-03-05T21:30:29.607583Z",
     "start_time": "2019-03-05T21:30:29.501005Z"
    }
   },
   "outputs": [],
   "source": [
    "# another way of splitting\n",
    "\n",
    "memberid_lst = list(df_[\"memberid\"].unique())\n",
    "\n",
    "test_size = 0.3\n",
    "split_obs = int(len(memberid_lst)*(1-test_size))\n",
    "train_lst = memberid_lst[:split_obs]\n",
    "test_lst = memberid_lst[split_obs:]\n",
    "\n",
    "train = df_.loc[df_[\"memberid\"].isin(train_lst)].copy()\n",
    "test = df_.loc[df_[\"memberid\"].isin(test_lst)].copy()\n",
    "\n",
    "drop_cols = [\"memberid\", \"chunkid\", \"segment_prev\", \"city_mostCommon\", \"categoryname_mostCommon\"]\n",
    "train = train.drop(drop_cols, axis=1, errors='ignore').copy()\n",
    "test = test.drop(drop_cols, axis=1, errors='ignore').copy()"
   ]
  },
  {
   "cell_type": "code",
   "execution_count": 70,
   "metadata": {
    "ExecuteTime": {
     "end_time": "2019-03-05T21:30:30.572753Z",
     "start_time": "2019-03-05T21:30:30.505115Z"
    }
   },
   "outputs": [],
   "source": [
    "xcols = [col for col in train.columns if col != 'segment']\n",
    "ycol = ['segment']\n",
    "X_train = train[xcols].copy()\n",
    "y_train = train[ycol].copy()\n",
    "X_test = test[xcols].copy()\n",
    "y_test = test[ycol].copy()"
   ]
  },
  {
   "cell_type": "markdown",
   "metadata": {},
   "source": [
    "## LR"
   ]
  },
  {
   "cell_type": "code",
   "execution_count": 72,
   "metadata": {
    "ExecuteTime": {
     "end_time": "2019-03-05T21:26:02.827557Z",
     "start_time": "2019-03-05T21:26:02.786818Z"
    }
   },
   "outputs": [],
   "source": [
    "lr = LogisticRegression()"
   ]
  },
  {
   "cell_type": "code",
   "execution_count": null,
   "metadata": {
    "ExecuteTime": {
     "end_time": "2019-03-05T21:26:04.703964Z",
     "start_time": "2019-03-05T21:26:03.771907Z"
    },
    "collapsed": true,
    "jupyter": {
     "outputs_hidden": true
    },
    "tags": []
   },
   "outputs": [],
   "source": [
    "lr.fit(X_train, y_train)"
   ]
  },
  {
   "cell_type": "code",
   "execution_count": 74,
   "metadata": {
    "ExecuteTime": {
     "end_time": "2019-03-05T19:21:38.816569Z",
     "start_time": "2019-03-05T19:21:38.771247Z"
    }
   },
   "outputs": [],
   "source": [
    "ypred = lr.predict_proba(X_test,)[:, 1]"
   ]
  },
  {
   "cell_type": "code",
   "execution_count": 77,
   "metadata": {
    "ExecuteTime": {
     "end_time": "2019-03-05T19:21:45.149484Z",
     "start_time": "2019-03-05T19:21:45.097365Z"
    }
   },
   "outputs": [
    {
     "data": {
      "text/plain": [
       "0.7828138843008257"
      ]
     },
     "execution_count": 77,
     "metadata": {},
     "output_type": "execute_result"
    }
   ],
   "source": [
    "roc_auc_score(y_test.values.reshape(-1,), ypred)"
   ]
  },
  {
   "cell_type": "code",
   "execution_count": 78,
   "metadata": {},
   "outputs": [],
   "source": [
    "feat_coef = dict(zip(list(X_train.columns), list(lr.coef_[0])))"
   ]
  },
  {
   "cell_type": "markdown",
   "metadata": {},
   "source": [
    "## GB"
   ]
  },
  {
   "cell_type": "code",
   "execution_count": 80,
   "metadata": {
    "ExecuteTime": {
     "end_time": "2019-03-05T19:21:57.191365Z",
     "start_time": "2019-03-05T19:21:57.153173Z"
    }
   },
   "outputs": [],
   "source": [
    "gb = GradientBoostingClassifier()"
   ]
  },
  {
   "cell_type": "code",
   "execution_count": 81,
   "metadata": {
    "ExecuteTime": {
     "end_time": "2019-03-05T19:22:07.304320Z",
     "start_time": "2019-03-05T19:21:57.635368Z"
    }
   },
   "outputs": [
    {
     "data": {
      "text/plain": [
       "GradientBoostingClassifier()"
      ]
     },
     "execution_count": 81,
     "metadata": {},
     "output_type": "execute_result"
    }
   ],
   "source": [
    "gb.fit(X_train, column_or_1d(y_train))"
   ]
  },
  {
   "cell_type": "code",
   "execution_count": 82,
   "metadata": {
    "ExecuteTime": {
     "end_time": "2019-03-05T19:22:07.821715Z",
     "start_time": "2019-03-05T19:22:07.749091Z"
    }
   },
   "outputs": [],
   "source": [
    "ypredgb = gb.predict_proba(X_test)"
   ]
  },
  {
   "cell_type": "code",
   "execution_count": 83,
   "metadata": {
    "ExecuteTime": {
     "end_time": "2019-03-05T19:22:08.293039Z",
     "start_time": "2019-03-05T19:22:08.252345Z"
    }
   },
   "outputs": [
    {
     "data": {
      "text/plain": [
       "0.9720453990645426"
      ]
     },
     "execution_count": 83,
     "metadata": {},
     "output_type": "execute_result"
    }
   ],
   "source": [
    "roc_auc_score(y_test.values.reshape(-1,), ypredgb[:,1])"
   ]
  },
  {
   "cell_type": "code",
   "execution_count": null,
   "metadata": {
    "ExecuteTime": {
     "end_time": "2019-03-05T19:51:13.110754Z",
     "start_time": "2019-03-05T19:51:12.869584Z"
    }
   },
   "outputs": [],
   "source": [
    "plt.figure(figsize=(15,10))\n",
    "feat_importances = pd.Series(gb.feature_importances_, index=X_train.columns)\n",
    "feat_importances.nlargest(10).plot(kind='barh')"
   ]
  },
  {
   "cell_type": "code",
   "execution_count": null,
   "metadata": {},
   "outputs": [],
   "source": [
    "imp_feat = list(feat_importances.nlargest(10).index)\n",
    "for col in imp_feat:\n",
    "    print(col, feat_coef[col])"
   ]
  },
  {
   "cell_type": "markdown",
   "metadata": {},
   "source": [
    "## RF"
   ]
  },
  {
   "cell_type": "code",
   "execution_count": null,
   "metadata": {
    "ExecuteTime": {
     "end_time": "2019-03-05T21:13:13.474819Z",
     "start_time": "2019-03-05T21:13:13.436673Z"
    }
   },
   "outputs": [],
   "source": [
    "model = RandomForestClassifier(max_depth=5, n_estimators=100)"
   ]
  },
  {
   "cell_type": "code",
   "execution_count": null,
   "metadata": {
    "ExecuteTime": {
     "end_time": "2019-03-05T21:13:19.054488Z",
     "start_time": "2019-03-05T21:13:13.921054Z"
    }
   },
   "outputs": [],
   "source": [
    "model.fit(X_train, y_train)"
   ]
  },
  {
   "cell_type": "code",
   "execution_count": null,
   "metadata": {
    "ExecuteTime": {
     "end_time": "2019-03-05T21:13:19.837592Z",
     "start_time": "2019-03-05T21:13:19.505706Z"
    }
   },
   "outputs": [],
   "source": [
    "yprob = model.predict_proba(X_test)\n",
    "ypred = model.predict(X_test)"
   ]
  },
  {
   "cell_type": "code",
   "execution_count": null,
   "metadata": {
    "ExecuteTime": {
     "end_time": "2019-03-05T21:13:20.323372Z",
     "start_time": "2019-03-05T21:13:20.280308Z"
    }
   },
   "outputs": [],
   "source": [
    "roc_auc_score(y_test.values.reshape(-1,), yprob[:,1])"
   ]
  },
  {
   "cell_type": "code",
   "execution_count": null,
   "metadata": {
    "ExecuteTime": {
     "end_time": "2019-03-05T21:13:21.089946Z",
     "start_time": "2019-03-05T21:13:20.758083Z"
    }
   },
   "outputs": [],
   "source": [
    "ypred1 = model.predict(X_test)\n",
    "cnf_matrix = confusion_matrix(y_test.values, ypred1)\n",
    "class_names = [\"stay_1\", \"leave_1\"]\n",
    "plot_confusion_matrix(cnf_matrix, classes=class_names, normalize=True,\n",
    "                      title='Normalized confusion matrix')"
   ]
  },
  {
   "cell_type": "markdown",
   "metadata": {},
   "source": [
    "## Catboost"
   ]
  },
  {
   "cell_type": "code",
   "execution_count": null,
   "metadata": {
    "ExecuteTime": {
     "end_time": "2019-03-05T21:35:23.580695Z",
     "start_time": "2019-03-05T21:35:02.066750Z"
    }
   },
   "outputs": [],
   "source": [
    "train_pool = Pool(X_train, y_train)\n",
    "m = CatBoostClassifier()\n",
    "m.fit(X_train, y_train)"
   ]
  },
  {
   "cell_type": "code",
   "execution_count": null,
   "metadata": {
    "ExecuteTime": {
     "end_time": "2019-03-05T21:35:55.323806Z",
     "start_time": "2019-03-05T21:35:55.146550Z"
    }
   },
   "outputs": [],
   "source": [
    "yprob = m.predict_proba(X_test)\n",
    "ypred = m.predict(X_test)"
   ]
  },
  {
   "cell_type": "code",
   "execution_count": null,
   "metadata": {
    "ExecuteTime": {
     "end_time": "2019-03-05T21:36:05.730900Z",
     "start_time": "2019-03-05T21:36:05.684551Z"
    }
   },
   "outputs": [],
   "source": [
    "roc_auc_score(y_test.values.reshape(-1,), yprob[:,1])"
   ]
  },
  {
   "cell_type": "code",
   "execution_count": null,
   "metadata": {
    "ExecuteTime": {
     "end_time": "2019-03-05T21:36:50.546369Z",
     "start_time": "2019-03-05T21:36:50.297197Z"
    }
   },
   "outputs": [],
   "source": [
    "cnf_matrix = confusion_matrix(y_test.values, ypred)\n",
    "class_names = [\"stay_1\", \"leave_1\"]\n",
    "plot_confusion_matrix(cnf_matrix, classes=class_names, normalize=True,\n",
    "                      title='Normalized confusion matrix')"
   ]
  },
  {
   "cell_type": "markdown",
   "metadata": {},
   "source": [
    "## LightGBM"
   ]
  },
  {
   "cell_type": "code",
   "execution_count": null,
   "metadata": {
    "ExecuteTime": {
     "end_time": "2019-03-05T22:02:35.625134Z",
     "start_time": "2019-03-05T22:02:35.588798Z"
    }
   },
   "outputs": [],
   "source": [
    "import lightgbm "
   ]
  },
  {
   "cell_type": "code",
   "execution_count": null,
   "metadata": {
    "ExecuteTime": {
     "end_time": "2019-03-05T22:12:18.487205Z",
     "start_time": "2019-03-05T22:12:18.447361Z"
    }
   },
   "outputs": [],
   "source": [
    "lgbm = lightgbm.LGBMClassifier(boosting_type= 'gbdt', \n",
    "                               num_leaves=300, \n",
    "                               n_estimators=30, \n",
    "                               learning_rate=0.2, \n",
    "                               is_unbalance=True)"
   ]
  },
  {
   "cell_type": "code",
   "execution_count": null,
   "metadata": {
    "ExecuteTime": {
     "end_time": "2019-03-05T22:12:21.006207Z",
     "start_time": "2019-03-05T22:12:20.081220Z"
    }
   },
   "outputs": [],
   "source": [
    "lgbm.fit(X_train, y_train)"
   ]
  },
  {
   "cell_type": "code",
   "execution_count": null,
   "metadata": {
    "ExecuteTime": {
     "end_time": "2019-03-05T22:12:22.171101Z",
     "start_time": "2019-03-05T22:12:22.055662Z"
    }
   },
   "outputs": [],
   "source": [
    "yprob = lgbm.predict_proba(X_test)\n",
    "ypred = lgbm.predict(X_test)"
   ]
  },
  {
   "cell_type": "code",
   "execution_count": null,
   "metadata": {
    "ExecuteTime": {
     "end_time": "2019-03-05T22:12:23.373847Z",
     "start_time": "2019-03-05T22:12:23.327597Z"
    }
   },
   "outputs": [],
   "source": [
    "roc_auc_score(y_test.values.reshape(-1,), yprob[:,1])"
   ]
  },
  {
   "cell_type": "code",
   "execution_count": null,
   "metadata": {
    "ExecuteTime": {
     "end_time": "2019-03-05T22:12:24.709759Z",
     "start_time": "2019-03-05T22:12:24.503570Z"
    }
   },
   "outputs": [],
   "source": [
    "cnf_matrix = confusion_matrix(y_test.values, ypred)\n",
    "class_names = [\"stay_1\", \"leave_1\"]\n",
    "plot_confusion_matrix(cnf_matrix, classes=class_names, normalize=True,\n",
    "                      title='Normalized confusion matrix')"
   ]
  },
  {
   "cell_type": "code",
   "execution_count": null,
   "metadata": {
    "ExecuteTime": {
     "end_time": "2019-03-06T15:57:26.078005Z",
     "start_time": "2019-03-06T15:57:25.652666Z"
    }
   },
   "outputs": [],
   "source": [
    "plt.figure(figsize=(15,5))\n",
    "feat_importances = pd.Series(lgbm.feature_importances_, index=X_train.columns)\n",
    "feat_importances.nlargest(20).plot(kind='barh')"
   ]
  },
  {
   "cell_type": "code",
   "execution_count": null,
   "metadata": {
    "ExecuteTime": {
     "end_time": "2019-03-06T16:00:42.331235Z",
     "start_time": "2019-03-06T16:00:42.286584Z"
    }
   },
   "outputs": [],
   "source": [
    "# visit time\n",
    "print(\"Visit time for staying in segment 1\", np.mean(df.loc[df[\"segment\"] == 0, \"visit_time\"]))\n",
    "print(\"Visit time for leaving in segment 1\", np.mean(df.loc[df[\"segment\"] == 1, \"visit_time\"]))"
   ]
  },
  {
   "cell_type": "code",
   "execution_count": null,
   "metadata": {
    "ExecuteTime": {
     "end_time": "2019-03-06T16:04:23.609626Z",
     "start_time": "2019-03-06T16:04:23.567978Z"
    }
   },
   "outputs": [],
   "source": [
    "# visit time\n",
    "print(\"Visit time for staying in segment 1\", np.std(df.loc[df[\"segment\"] == 0, \"visit_time\"]))\n",
    "print(\"Visit time for leaving in segment 1\", np.std(df.loc[df[\"segment\"] == 1, \"visit_time\"]))"
   ]
  },
  {
   "cell_type": "code",
   "execution_count": null,
   "metadata": {
    "ExecuteTime": {
     "end_time": "2019-03-06T16:01:52.384342Z",
     "start_time": "2019-03-06T16:01:52.341463Z"
    }
   },
   "outputs": [],
   "source": [
    "# avg basket size\n",
    "print(\"Avg basket size for staying in segment 1\", np.mean(df.loc[df[\"segment\"] == 0, \"avg_basket_size\"]))\n",
    "print(\"Avg basket size for leaving in segment 1\", np.mean(df.loc[df[\"segment\"] == 1, \"avg_basket_size\"]))"
   ]
  },
  {
   "cell_type": "code",
   "execution_count": null,
   "metadata": {
    "ExecuteTime": {
     "end_time": "2019-03-06T16:04:06.141583Z",
     "start_time": "2019-03-06T16:04:06.100130Z"
    }
   },
   "outputs": [],
   "source": [
    "# avg basket size\n",
    "print(\"Avg basket size for staying in segment 1\", np.std(df.loc[df[\"segment\"] == 0, \"avg_basket_size\"]))\n",
    "print(\"Avg basket size for leaving in segment 1\", np.std(df.loc[df[\"segment\"] == 1, \"avg_basket_size\"]))"
   ]
  },
  {
   "cell_type": "code",
   "execution_count": null,
   "metadata": {
    "ExecuteTime": {
     "end_time": "2019-03-06T16:02:36.613459Z",
     "start_time": "2019-03-06T16:02:36.571289Z"
    }
   },
   "outputs": [],
   "source": [
    "# avg smoke basket size\n",
    "print(\"Smoke basket size for staying in segment 1\", np.mean(df.loc[df[\"segment\"] == 0, \"smoke_basket_size\"]))\n",
    "print(\"Smoke basket size for leaving in segment 1\", np.mean(df.loc[df[\"segment\"] == 1, \"smoke_basket_size\"]))"
   ]
  },
  {
   "cell_type": "code",
   "execution_count": null,
   "metadata": {
    "ExecuteTime": {
     "end_time": "2019-03-06T16:03:51.129021Z",
     "start_time": "2019-03-06T16:03:51.087405Z"
    }
   },
   "outputs": [],
   "source": [
    "# avg smoke basket size\n",
    "print(\"Smoke basket size for staying in segment 1\", np.std(df.loc[df[\"segment\"] == 0, \"smoke_basket_size\"]))\n",
    "print(\"Smoke basket size for leaving in segment 1\", np.std(df.loc[df[\"segment\"] == 1, \"smoke_basket_size\"]))"
   ]
  },
  {
   "cell_type": "code",
   "execution_count": null,
   "metadata": {
    "ExecuteTime": {
     "end_time": "2019-03-06T16:03:10.737925Z",
     "start_time": "2019-03-06T16:03:10.696994Z"
    }
   },
   "outputs": [],
   "source": [
    "# ecig basket size\n",
    "print(\"Ecig basket size for staying in segment 1\", np.mean(df.loc[df[\"segment\"] == 0, \"ecig_basket_size\"]))\n",
    "print(\"Ecig basket size for leaving in segment 1\", np.mean(df.loc[df[\"segment\"] == 1, \"ecig_basket_size\"]))"
   ]
  },
  {
   "cell_type": "code",
   "execution_count": null,
   "metadata": {
    "ExecuteTime": {
     "end_time": "2019-03-06T16:03:32.258594Z",
     "start_time": "2019-03-06T16:03:32.209673Z"
    }
   },
   "outputs": [],
   "source": [
    "# ecig basket size\n",
    "print(\"Ecig basket size for staying in segment 1\", np.std(df.loc[df[\"segment\"] == 0, \"ecig_basket_size\"]))\n",
    "print(\"Ecig basket size for leaving in segment 1\", np.std(df.loc[df[\"segment\"] == 1, \"ecig_basket_size\"]))"
   ]
  },
  {
   "cell_type": "code",
   "execution_count": null,
   "metadata": {
    "ExecuteTime": {
     "end_time": "2019-03-06T16:17:28.436347Z",
     "start_time": "2019-03-06T16:17:28.379158Z"
    }
   },
   "outputs": [],
   "source": [
    "# most common non-smoke PSA\n",
    "df.loc[df[\"segment\"] == 0, \"psaname_mostCommon\"].value_counts(normalize=True)[:10]"
   ]
  },
  {
   "cell_type": "code",
   "execution_count": null,
   "metadata": {
    "ExecuteTime": {
     "end_time": "2019-03-06T16:17:22.817118Z",
     "start_time": "2019-03-06T16:17:22.774215Z"
    }
   },
   "outputs": [],
   "source": [
    "# most common non-smoke PSA\n",
    "df.loc[df[\"segment\"] == 1, \"psaname_mostCommon\"].value_counts(normalize=True)[:10]"
   ]
  },
  {
   "cell_type": "code",
   "execution_count": null,
   "metadata": {
    "ExecuteTime": {
     "end_time": "2019-03-06T16:17:16.360613Z",
     "start_time": "2019-03-06T16:17:16.301111Z"
    }
   },
   "outputs": [],
   "source": [
    "# most common non-smoke category\n",
    "df.loc[df[\"segment\"] == 0, \"categoryname_mostCommon\"].value_counts(normalize=True)[:10]"
   ]
  },
  {
   "cell_type": "code",
   "execution_count": null,
   "metadata": {
    "ExecuteTime": {
     "end_time": "2019-03-06T16:17:36.352824Z",
     "start_time": "2019-03-06T16:17:36.312318Z"
    }
   },
   "outputs": [],
   "source": [
    "# most common non-smoke category\n",
    "df.loc[df[\"segment\"] == 1, \"categoryname_mostCommon\"].value_counts(normalize=True)[:10]"
   ]
  },
  {
   "cell_type": "code",
   "execution_count": null,
   "metadata": {
    "ExecuteTime": {
     "end_time": "2019-03-06T16:18:27.753871Z",
     "start_time": "2019-03-06T16:18:27.695472Z"
    }
   },
   "outputs": [],
   "source": [
    "# most common city\n",
    "df.loc[df[\"segment\"] == 0, \"city_mostCommon\"].value_counts(normalize=True)[:10]"
   ]
  },
  {
   "cell_type": "code",
   "execution_count": null,
   "metadata": {
    "ExecuteTime": {
     "end_time": "2019-03-06T16:18:35.665962Z",
     "start_time": "2019-03-06T16:18:35.621828Z"
    }
   },
   "outputs": [],
   "source": [
    "# most common city\n",
    "df.loc[df[\"segment\"] == 1, \"city_mostCommon\"].value_counts(normalize=True)[:10]"
   ]
  },
  {
   "cell_type": "markdown",
   "metadata": {},
   "source": [
    "# Evaluation"
   ]
  },
  {
   "cell_type": "code",
   "execution_count": null,
   "metadata": {
    "ExecuteTime": {
     "end_time": "2019-03-05T21:36:45.659979Z",
     "start_time": "2019-03-05T21:36:45.613407Z"
    }
   },
   "outputs": [],
   "source": [
    "def plot_confusion_matrix(cm, classes,\n",
    "                          normalize=False,\n",
    "                          title='Confusion matrix',\n",
    "                          cmap=plt.cm.Blues):\n",
    "    \"\"\"\n",
    "    This function prints and plots the confusion matrix.\n",
    "    Normalization can be applied by setting `normalize=True`.\n",
    "    \"\"\"\n",
    "    if normalize:\n",
    "        cm = cm.astype('float') / cm.sum(axis=1)[:, np.newaxis]\n",
    "        print(\"Normalized confusion matrix\")\n",
    "    else:\n",
    "        print('Confusion matrix, without normalization')\n",
    "\n",
    "    plt.figure(figsize=(15,5))\n",
    "    plt.imshow(cm, interpolation='nearest', cmap=cmap)\n",
    "    plt.title(title)\n",
    "    plt.colorbar()\n",
    "    tick_marks = np.arange(len(classes))\n",
    "    plt.xticks(tick_marks, classes, rotation=45)\n",
    "    plt.yticks(tick_marks, classes)\n",
    "\n",
    "    fmt = '.2f' if normalize else 'd'\n",
    "    thresh = cm.max() / 2.\n",
    "    for i, j in itertools.product(range(cm.shape[0]), range(cm.shape[1])):\n",
    "        plt.text(j, i, format(cm[i, j], fmt),\n",
    "                 horizontalalignment=\"center\",\n",
    "                 color=\"white\" if cm[i, j] > thresh else \"black\")\n",
    "\n",
    "    plt.ylabel('True label')\n",
    "    plt.xlabel('Predicted label')\n",
    "    plt.tight_layout()"
   ]
  },
  {
   "cell_type": "code",
   "execution_count": null,
   "metadata": {
    "ExecuteTime": {
     "end_time": "2019-03-05T21:09:10.714860Z",
     "start_time": "2019-03-05T21:09:10.492033Z"
    }
   },
   "outputs": [],
   "source": [
    "ypredgb1 = gb.predict(X_test)\n",
    "cnf_matrix = confusion_matrix(y_test.values, ypredgb1)\n",
    "class_names = [\"stay_1\", \"leave_1\"]\n",
    "plot_confusion_matrix(cnf_matrix, classes=class_names, normalize=True,\n",
    "                      title='Normalized confusion matrix')"
   ]
  },
  {
   "cell_type": "code",
   "execution_count": null,
   "metadata": {},
   "outputs": [],
   "source": []
  }
 ],
 "metadata": {
  "kernelspec": {
   "display_name": "Python 3.9.13 64-bit",
   "language": "python",
   "name": "python3"
  },
  "language_info": {
   "codemirror_mode": {
    "name": "ipython",
    "version": 3
   },
   "file_extension": ".py",
   "mimetype": "text/x-python",
   "name": "python",
   "nbconvert_exporter": "python",
   "pygments_lexer": "ipython3",
   "version": "3.9.13"
  },
  "varInspector": {
   "cols": {
    "lenName": 16,
    "lenType": 16,
    "lenVar": 40
   },
   "kernels_config": {
    "python": {
     "delete_cmd_postfix": "",
     "delete_cmd_prefix": "del ",
     "library": "var_list.py",
     "varRefreshCmd": "print(var_dic_list())"
    },
    "r": {
     "delete_cmd_postfix": ") ",
     "delete_cmd_prefix": "rm(",
     "library": "var_list.r",
     "varRefreshCmd": "cat(var_dic_list()) "
    }
   },
   "position": {
    "height": "621px",
    "left": "798px",
    "right": "20px",
    "top": "119px",
    "width": "543px"
   },
   "types_to_exclude": [
    "module",
    "function",
    "builtin_function_or_method",
    "instance",
    "_Feature"
   ],
   "window_display": false
  },
  "vscode": {
   "interpreter": {
    "hash": "b0fa6594d8f4cbf19f97940f81e996739fb7646882a419484c72d19e05852a7e"
   }
  }
 },
 "nbformat": 4,
 "nbformat_minor": 4
}
