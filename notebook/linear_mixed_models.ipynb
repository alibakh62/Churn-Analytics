{
 "cells": [
  {
   "cell_type": "code",
   "execution_count": null,
   "metadata": {},
   "outputs": [],
   "source": [
    "%matplotlib inline\n",
    "%load_ext autoreload\n",
    "%autoreload 2"
   ]
  },
  {
   "cell_type": "code",
   "execution_count": 16,
   "metadata": {
    "ExecuteTime": {
     "end_time": "2019-03-08T16:21:16.686968Z",
     "start_time": "2019-03-08T16:21:16.684592Z"
    }
   },
   "outputs": [],
   "source": [
    "import numpy as np\n",
    "import pandas as pd\n",
    "import statsmodels.api as sm\n",
    "import statsmodels.formula.api as smf"
   ]
  },
  {
   "cell_type": "code",
   "execution_count": 17,
   "metadata": {
    "ExecuteTime": {
     "end_time": "2019-03-08T16:21:41.424912Z",
     "start_time": "2019-03-08T16:21:40.821396Z"
    }
   },
   "outputs": [],
   "source": [
    "DATA_FILE = \"\" # path to data file\n",
    "colnames = []  # list of column names\n",
    "df = pd.read_csv(DATA_FILE, header=None, names=colnames)\n",
    "df.shape"
   ]
  },
  {
   "cell_type": "code",
   "execution_count": 20,
   "metadata": {
    "ExecuteTime": {
     "end_time": "2019-03-08T16:46:22.507458Z",
     "start_time": "2019-03-08T16:46:22.474979Z"
    }
   },
   "outputs": [],
   "source": [
    "feature_cols = []  # list of feature columns\n",
    "df_ = df[feature_cols].copy()"
   ]
  },
  {
   "cell_type": "code",
   "execution_count": 21,
   "metadata": {
    "ExecuteTime": {
     "end_time": "2019-03-08T17:49:12.419723Z",
     "start_time": "2019-03-08T17:49:12.416754Z"
    }
   },
   "outputs": [],
   "source": [
    "from statsmodels.genmod.bayes_mixed_glm import BinomialBayesMixedGLM"
   ]
  },
  {
   "cell_type": "code",
   "execution_count": 34,
   "metadata": {
    "ExecuteTime": {
     "end_time": "2019-03-08T17:59:10.681353Z",
     "start_time": "2019-03-08T17:59:10.678497Z"
    }
   },
   "outputs": [],
   "source": [
    "Xcols = [col for col in df_.columns if (col != 'state_mostCommon') & (col != 'segment')]\n",
    "formula = \"segment ~ {}\".format('+'.join(Xcols))"
   ]
  },
  {
   "cell_type": "code",
   "execution_count": 37,
   "metadata": {
    "ExecuteTime": {
     "end_time": "2019-03-08T18:00:57.929953Z",
     "start_time": "2019-03-08T18:00:57.927727Z"
    }
   },
   "outputs": [],
   "source": [
    "random = ['0 + C(state_mostCommon)', '0 + C(state_mostCommon)*avg_basket_size']"
   ]
  },
  {
   "cell_type": "code",
   "execution_count": null,
   "metadata": {
    "ExecuteTime": {
     "end_time": "2019-03-08T18:00:58.692398Z",
     "start_time": "2019-03-08T18:00:58.681015Z"
    }
   },
   "outputs": [],
   "source": [
    "model = BinomialBayesMixedGLM.from_formula(formula, random, df_)"
   ]
  },
  {
   "cell_type": "code",
   "execution_count": null,
   "metadata": {},
   "outputs": [],
   "source": [
    "model = BinomialBayesMixedGLM(endog=df_[\"segment\"], exog=df_[Xcols], exog_vc=df_[\"state_mostCommon\"])"
   ]
  }
 ],
 "metadata": {
  "kernelspec": {
   "display_name": "Python 3",
   "language": "python",
   "name": "python3"
  },
  "language_info": {
   "codemirror_mode": {
    "name": "ipython",
    "version": 3
   },
   "file_extension": ".py",
   "mimetype": "text/x-python",
   "name": "python",
   "nbconvert_exporter": "python",
   "pygments_lexer": "ipython3",
   "version": "3.6.5"
  },
  "varInspector": {
   "cols": {
    "lenName": 16,
    "lenType": 16,
    "lenVar": 40
   },
   "kernels_config": {
    "python": {
     "delete_cmd_postfix": "",
     "delete_cmd_prefix": "del ",
     "library": "var_list.py",
     "varRefreshCmd": "print(var_dic_list())"
    },
    "r": {
     "delete_cmd_postfix": ") ",
     "delete_cmd_prefix": "rm(",
     "library": "var_list.r",
     "varRefreshCmd": "cat(var_dic_list()) "
    }
   },
   "types_to_exclude": [
    "module",
    "function",
    "builtin_function_or_method",
    "instance",
    "_Feature"
   ],
   "window_display": false
  }
 },
 "nbformat": 4,
 "nbformat_minor": 2
}
