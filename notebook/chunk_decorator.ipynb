{
 "cells": [
  {
   "cell_type": "code",
   "execution_count": 4,
   "metadata": {},
   "outputs": [],
   "source": [
    "from functools import wraps\n",
    "\n",
    "\n",
    "def listify(fn):\n",
    "    \"\"\"\n",
    "    Use this decorator on a generator function to make it return a list\n",
    "    instead.\n",
    "    \"\"\"\n",
    "\n",
    "    @wraps(fn)\n",
    "    def listified(*args, **kwargs):\n",
    "        return list(fn(*args, **kwargs))\n",
    "\n",
    "    return listified"
   ]
  },
  {
   "cell_type": "code",
   "execution_count": null,
   "metadata": {},
   "outputs": [],
   "source": [
    "def get_featDF(cls, inputDF):\n",
    "    spark = SparkSession.builder.getOrCreate()\n",
    "    tmp = cls.add_all_features(inputDF.withColumn(\"chunkid\",\n",
    "                                                  F.lit(\"daydate\")))\n",
    "    schema = tmp.schema\n",
    "    outputDF = spark.createDataFrame([], schema)\n",
    "\n",
    "    chunk = cls.gen_data_chunks(inputDF, window=cls.window, step=cls.step)\n",
    "    while True:\n",
    "        try:\n",
    "            chunkDF = cls.add_all_features(next(chunk)).cache()\n",
    "            chunkDF.count()\n",
    "            outputDF = outputDF.union(chunkDF)\n",
    "        except StopIteration:\n",
    "            break\n",
    "\n",
    "    return outputDF"
   ]
  },
  {
   "cell_type": "code",
   "execution_count": 70,
   "metadata": {},
   "outputs": [],
   "source": [
    "def rolling(df, schema):\n",
    "    spark = SparkSession.builder.getOrCreate()\n",
    "    outdf = spark.createDataFrame([], schema)\n",
    "    chunkgen = DataLoader.gen_data_chunks(df)\n",
    "    def rolled(function):\n",
    "        @wraps\n",
    "        def wrapper(*args, **kwargs):\n",
    "            while True:\n",
    "                try:\n",
    "                    chunkdf = function(next(chunkgen)).cache()\n",
    "                    chunkdf.count()\n",
    "                    outdf = outdf.union(chunkdf)\n",
    "                except StopIteration:\n",
    "                    break\n",
    "            return outdf\n",
    "        return wrapper\n",
    "    return rolled"
   ]
  },
  {
   "cell_type": "code",
   "execution_count": null,
   "metadata": {},
   "outputs": [],
   "source": [
    "# replace chunkid with config.TIME_ID_COL\n",
    "def get_schema(df):\n",
    "    spark = SparkSession.builder.getOrCreate()\n",
    "    tmp = cls.add_all_features(df.withColumn(\"chunkid\", F.lit(\"9999\")))\n",
    "    return tmp.schema"
   ]
  }
 ],
 "metadata": {
  "kernelspec": {
   "display_name": "Python 3.9.13 64-bit",
   "language": "python",
   "name": "python3"
  },
  "language_info": {
   "codemirror_mode": {
    "name": "ipython",
    "version": 3
   },
   "file_extension": ".py",
   "mimetype": "text/x-python",
   "name": "python",
   "nbconvert_exporter": "python",
   "pygments_lexer": "ipython3",
   "version": "3.9.13"
  },
  "vscode": {
   "interpreter": {
    "hash": "b0fa6594d8f4cbf19f97940f81e996739fb7646882a419484c72d19e05852a7e"
   }
  }
 },
 "nbformat": 4,
 "nbformat_minor": 2
}
